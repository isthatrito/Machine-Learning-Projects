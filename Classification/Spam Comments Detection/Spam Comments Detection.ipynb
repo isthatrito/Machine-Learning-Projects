{
 "cells": [
  {
   "cell_type": "code",
   "execution_count": 2,
   "id": "eab2f848",
   "metadata": {},
   "outputs": [],
   "source": [
    "import pandas as pd\n",
    "import numpy as np\n",
    "from sklearn.feature_extraction.text import CountVectorizer\n",
    "from sklearn.model_selection import train_test_split\n",
    "from sklearn.naive_bayes import BernoulliNB"
   ]
  },
  {
   "cell_type": "code",
   "execution_count": 3,
   "id": "5a977839",
   "metadata": {},
   "outputs": [
    {
     "name": "stdout",
     "output_type": "stream",
     "text": [
      "                                COMMENT_ID           AUTHOR  \\\n",
      "31     z13autsqgzblcx3w104chr4r2kexd10rxc0     DropShotSk8r   \n",
      "346  z13fcn1wfpb5e51xe04chdxakpzgchyaxzo0k  diego mogrovejo   \n",
      "337    z13uud25otb0ird2h230chu54neyehsbg04    Tofik Miedzyń   \n",
      "263    z122ybty1la4dbrz304cgnoh1knkiv0odfg      bruno jovao   \n",
      "269      z13axbnqtxfrc3ncc23xxp2wivqbgx43o      sahil samal   \n",
      "\n",
      "                    DATE                                            CONTENT  \\\n",
      "31   2014-01-19T04:27:18            Came here to check the views, goodbye.﻿   \n",
      "346  2014-11-14T13:28:08         I don't now why I'm watching this in 2014﻿   \n",
      "337  2014-11-13T21:48:26  https://www.facebook.com/tofikmiedzynB/photos/...   \n",
      "263  2014-11-08T04:51:38                                               LoL﻿   \n",
      "269  2014-11-08T06:28:01  1 millioon dislikessssssssssssssssssssssssssss...   \n",
      "\n",
      "     CLASS  \n",
      "31       0  \n",
      "346      0  \n",
      "337      1  \n",
      "263      0  \n",
      "269      0  \n"
     ]
    }
   ],
   "source": [
    "data = pd.read_csv(\"Youtube01-Psy.csv\")\n",
    "print(data.sample(5))"
   ]
  },
  {
   "cell_type": "code",
   "execution_count": 4,
   "id": "7d7fe114",
   "metadata": {},
   "outputs": [
    {
     "name": "stdout",
     "output_type": "stream",
     "text": [
      "                                               CONTENT  CLASS\n",
      "256  Hey guys! Check this out: Kollektivet - Don't ...      1\n",
      "262  THIS HAS MORE VIEWS THAN QUEEN AND MICHAEL JAC...      0\n",
      "199          Subscribe to me plz plz plz plz plz plZ ﻿      1\n",
      "12                https://twitter.com/GBphotographyGB﻿      1\n",
      "78   -----&gt;&gt;&gt;&gt;  https://www.facebook.co...      1\n"
     ]
    }
   ],
   "source": [
    "data = data[[\"CONTENT\", \"CLASS\"]]\n",
    "print(data.sample(5))"
   ]
  },
  {
   "cell_type": "code",
   "execution_count": 5,
   "id": "2785c688",
   "metadata": {},
   "outputs": [
    {
     "name": "stdout",
     "output_type": "stream",
     "text": [
      "                                               CONTENT         CLASS\n",
      "63                  when is this gonna hit 2 billion?﻿      Not Spam\n",
      "339  http://www.bing.com/explore/rewards?PUBL=REFER...  Spam Comment\n",
      "214               Still watching this 2 years later? ﻿      Not Spam\n",
      "5    Hey, check out my new website!! This site is a...  Spam Comment\n",
      "232                  how is this shit still relevant ﻿      Not Spam\n"
     ]
    }
   ],
   "source": [
    "data[\"CLASS\"] = data[\"CLASS\"].map({0: \"Not Spam\",\n",
    "                                   1: \"Spam Comment\"})\n",
    "print(data.sample(5))"
   ]
  },
  {
   "cell_type": "markdown",
   "id": "6416a44c",
   "metadata": {},
   "source": [
    "# Training a Classification Model\n"
   ]
  },
  {
   "cell_type": "code",
   "execution_count": 6,
   "id": "77de266d",
   "metadata": {},
   "outputs": [],
   "source": [
    "x = np.array(data[\"CONTENT\"])\n",
    "y = np.array(data[\"CLASS\"])\n",
    "\n",
    "cv = CountVectorizer()\n",
    "x = cv.fit_transform(x)\n",
    "xtrain, xtest, ytrain, ytest = train_test_split(x, y, \n",
    "                                                test_size=0.2, \n",
    "                                                random_state=42)"
   ]
  },
  {
   "cell_type": "code",
   "execution_count": 7,
   "id": "dfc2bb53",
   "metadata": {},
   "outputs": [
    {
     "name": "stdout",
     "output_type": "stream",
     "text": [
      "0.9857142857142858\n"
     ]
    }
   ],
   "source": [
    "model = BernoulliNB()\n",
    "model.fit(xtrain, ytrain)\n",
    "print(model.score(xtest, ytest))"
   ]
  },
  {
   "cell_type": "code",
   "execution_count": 8,
   "id": "7c78056f",
   "metadata": {},
   "outputs": [
    {
     "name": "stdout",
     "output_type": "stream",
     "text": [
      "['Spam Comment']\n"
     ]
    }
   ],
   "source": [
    "sample = \"Check this out: https://thepythonepert.com/\" \n",
    "data = cv.transform([sample]).toarray()\n",
    "print(model.predict(data))"
   ]
  },
  {
   "cell_type": "code",
   "execution_count": 10,
   "id": "3aa57d8f",
   "metadata": {},
   "outputs": [
    {
     "name": "stdout",
     "output_type": "stream",
     "text": [
      "['Not Spam']\n"
     ]
    }
   ],
   "source": [
    "sample = \"pretty good\" \n",
    "data = cv.transform([sample]).toarray()\n",
    "print(model.predict(data))"
   ]
  },
  {
   "cell_type": "code",
   "execution_count": null,
   "id": "c82be06f",
   "metadata": {},
   "outputs": [],
   "source": []
  }
 ],
 "metadata": {
  "kernelspec": {
   "display_name": "Python 3 (ipykernel)",
   "language": "python",
   "name": "python3"
  },
  "language_info": {
   "codemirror_mode": {
    "name": "ipython",
    "version": 3
   },
   "file_extension": ".py",
   "mimetype": "text/x-python",
   "name": "python",
   "nbconvert_exporter": "python",
   "pygments_lexer": "ipython3",
   "version": "3.11.4"
  }
 },
 "nbformat": 4,
 "nbformat_minor": 5
}
